{
 "cells": [
  {
   "cell_type": "code",
   "execution_count": 51,
   "id": "af135eb3-63bf-401c-9f78-086315a0b872",
   "metadata": {},
   "outputs": [],
   "source": [
    "# Setting Up Dependencies\n",
    "\n",
    "import pandas as pd\n",
    "import numpy as np\n",
    "import matplotlib.pyplot as plt\n",
    "from sklearn.preprocessing import LabelEncoder\n",
    "from sklearn.impute import KNNImputer\n",
    "import warnings\n",
    "from sklearn.model_selection import train_test_split as tts\n",
    "from sklearn.ensemble import RandomForestClassifier\n",
    "from imblearn.ensemble import BalancedRandomForestClassifier\n",
    "from sklearn.metrics import classification_report\n",
    "from sklearn.model_selection import RandomizedSearchCV\n",
    "from sklearn.ensemble import GradientBoostingClassifier\n",
    "from xgboost import XGBClassifier\n",
    "from sklearn.linear_model import LogisticRegression\n",
    "from sklearn.metrics import accuracy_score\n",
    "from sklearn.metrics import ConfusionMatrixDisplay\n",
    "from sklearn.metrics import confusion_matrix\n",
    "from imblearn.metrics import classification_report_imbalanced"
   ]
  },
  {
   "cell_type": "markdown",
   "id": "b1c648c9-5c14-41a3-838f-8c23861dcc20",
   "metadata": {},
   "source": [
    "### Load and View Dataset "
   ]
  },
  {
   "cell_type": "code",
   "execution_count": 2,
   "id": "d2b7e3b7-d7fb-4505-a0e6-49cd1c599bd5",
   "metadata": {},
   "outputs": [
    {
     "data": {
      "text/html": [
       "<div>\n",
       "<style scoped>\n",
       "    .dataframe tbody tr th:only-of-type {\n",
       "        vertical-align: middle;\n",
       "    }\n",
       "\n",
       "    .dataframe tbody tr th {\n",
       "        vertical-align: top;\n",
       "    }\n",
       "\n",
       "    .dataframe thead th {\n",
       "        text-align: right;\n",
       "    }\n",
       "</style>\n",
       "<table border=\"1\" class=\"dataframe\">\n",
       "  <thead>\n",
       "    <tr style=\"text-align: right;\">\n",
       "      <th></th>\n",
       "      <th>Month</th>\n",
       "      <th>WeekOfMonth</th>\n",
       "      <th>DayOfWeek</th>\n",
       "      <th>Make</th>\n",
       "      <th>AccidentArea</th>\n",
       "      <th>DayOfWeekClaimed</th>\n",
       "      <th>MonthClaimed</th>\n",
       "      <th>WeekOfMonthClaimed</th>\n",
       "      <th>Sex</th>\n",
       "      <th>MaritalStatus</th>\n",
       "      <th>Age</th>\n",
       "      <th>Fault</th>\n",
       "      <th>PolicyType</th>\n",
       "      <th>VehicleCategory</th>\n",
       "      <th>VehiclePrice</th>\n",
       "      <th>PolicyNumber</th>\n",
       "      <th>RepNumber</th>\n",
       "      <th>Deductible</th>\n",
       "      <th>DriverRating</th>\n",
       "      <th>Days:Policy-Accident</th>\n",
       "      <th>Days:Policy-Claim</th>\n",
       "      <th>PastNumberOfClaims</th>\n",
       "      <th>AgeOfVehicle</th>\n",
       "      <th>AgeOfPolicyHolder</th>\n",
       "      <th>PoliceReportFiled</th>\n",
       "      <th>WitnessPresent</th>\n",
       "      <th>AgentType</th>\n",
       "      <th>NumberOfSuppliments</th>\n",
       "      <th>AddressChange-Claim</th>\n",
       "      <th>NumberOfCars</th>\n",
       "      <th>Year</th>\n",
       "      <th>BasePolicy</th>\n",
       "      <th>FraudFound</th>\n",
       "    </tr>\n",
       "  </thead>\n",
       "  <tbody>\n",
       "    <tr>\n",
       "      <th>0</th>\n",
       "      <td>Dec</td>\n",
       "      <td>5</td>\n",
       "      <td>Wednesday</td>\n",
       "      <td>Honda</td>\n",
       "      <td>Urban</td>\n",
       "      <td>Tuesday</td>\n",
       "      <td>Jan</td>\n",
       "      <td>1</td>\n",
       "      <td>Female</td>\n",
       "      <td>Single</td>\n",
       "      <td>21</td>\n",
       "      <td>Policy Holder</td>\n",
       "      <td>Sport - Liability</td>\n",
       "      <td>Sport</td>\n",
       "      <td>more than 69,000</td>\n",
       "      <td>1</td>\n",
       "      <td>12</td>\n",
       "      <td>300</td>\n",
       "      <td>1</td>\n",
       "      <td>more than 30</td>\n",
       "      <td>more than 30</td>\n",
       "      <td>none</td>\n",
       "      <td>3 years</td>\n",
       "      <td>26 to 30</td>\n",
       "      <td>No</td>\n",
       "      <td>No</td>\n",
       "      <td>External</td>\n",
       "      <td>none</td>\n",
       "      <td>1 year</td>\n",
       "      <td>3 to 4</td>\n",
       "      <td>1994</td>\n",
       "      <td>Liability</td>\n",
       "      <td>No</td>\n",
       "    </tr>\n",
       "    <tr>\n",
       "      <th>1</th>\n",
       "      <td>Jan</td>\n",
       "      <td>3</td>\n",
       "      <td>Wednesday</td>\n",
       "      <td>Honda</td>\n",
       "      <td>Urban</td>\n",
       "      <td>Monday</td>\n",
       "      <td>Jan</td>\n",
       "      <td>4</td>\n",
       "      <td>Male</td>\n",
       "      <td>Single</td>\n",
       "      <td>34</td>\n",
       "      <td>Policy Holder</td>\n",
       "      <td>Sport - Collision</td>\n",
       "      <td>Sport</td>\n",
       "      <td>more than 69,000</td>\n",
       "      <td>2</td>\n",
       "      <td>15</td>\n",
       "      <td>400</td>\n",
       "      <td>4</td>\n",
       "      <td>more than 30</td>\n",
       "      <td>more than 30</td>\n",
       "      <td>none</td>\n",
       "      <td>6 years</td>\n",
       "      <td>31 to 35</td>\n",
       "      <td>Yes</td>\n",
       "      <td>No</td>\n",
       "      <td>External</td>\n",
       "      <td>none</td>\n",
       "      <td>no change</td>\n",
       "      <td>1 vehicle</td>\n",
       "      <td>1994</td>\n",
       "      <td>Collision</td>\n",
       "      <td>No</td>\n",
       "    </tr>\n",
       "    <tr>\n",
       "      <th>2</th>\n",
       "      <td>Oct</td>\n",
       "      <td>5</td>\n",
       "      <td>Friday</td>\n",
       "      <td>Honda</td>\n",
       "      <td>Urban</td>\n",
       "      <td>Thursday</td>\n",
       "      <td>Nov</td>\n",
       "      <td>2</td>\n",
       "      <td>Male</td>\n",
       "      <td>Married</td>\n",
       "      <td>47</td>\n",
       "      <td>Policy Holder</td>\n",
       "      <td>Sport - Collision</td>\n",
       "      <td>Sport</td>\n",
       "      <td>more than 69,000</td>\n",
       "      <td>3</td>\n",
       "      <td>7</td>\n",
       "      <td>400</td>\n",
       "      <td>3</td>\n",
       "      <td>more than 30</td>\n",
       "      <td>more than 30</td>\n",
       "      <td>1</td>\n",
       "      <td>7 years</td>\n",
       "      <td>41 to 50</td>\n",
       "      <td>No</td>\n",
       "      <td>No</td>\n",
       "      <td>External</td>\n",
       "      <td>none</td>\n",
       "      <td>no change</td>\n",
       "      <td>1 vehicle</td>\n",
       "      <td>1994</td>\n",
       "      <td>Collision</td>\n",
       "      <td>No</td>\n",
       "    </tr>\n",
       "    <tr>\n",
       "      <th>3</th>\n",
       "      <td>Jun</td>\n",
       "      <td>2</td>\n",
       "      <td>Saturday</td>\n",
       "      <td>Toyota</td>\n",
       "      <td>Rural</td>\n",
       "      <td>Friday</td>\n",
       "      <td>Jul</td>\n",
       "      <td>1</td>\n",
       "      <td>Male</td>\n",
       "      <td>Married</td>\n",
       "      <td>65</td>\n",
       "      <td>Third Party</td>\n",
       "      <td>Sedan - Liability</td>\n",
       "      <td>Sport</td>\n",
       "      <td>20,000 to 29,000</td>\n",
       "      <td>4</td>\n",
       "      <td>4</td>\n",
       "      <td>400</td>\n",
       "      <td>2</td>\n",
       "      <td>more than 30</td>\n",
       "      <td>more than 30</td>\n",
       "      <td>1</td>\n",
       "      <td>more than 7</td>\n",
       "      <td>51 to 65</td>\n",
       "      <td>Yes</td>\n",
       "      <td>No</td>\n",
       "      <td>External</td>\n",
       "      <td>more than 5</td>\n",
       "      <td>no change</td>\n",
       "      <td>1 vehicle</td>\n",
       "      <td>1994</td>\n",
       "      <td>Liability</td>\n",
       "      <td>No</td>\n",
       "    </tr>\n",
       "    <tr>\n",
       "      <th>4</th>\n",
       "      <td>Jan</td>\n",
       "      <td>5</td>\n",
       "      <td>Monday</td>\n",
       "      <td>Honda</td>\n",
       "      <td>Urban</td>\n",
       "      <td>Tuesday</td>\n",
       "      <td>Feb</td>\n",
       "      <td>2</td>\n",
       "      <td>Female</td>\n",
       "      <td>Single</td>\n",
       "      <td>27</td>\n",
       "      <td>Third Party</td>\n",
       "      <td>Sport - Collision</td>\n",
       "      <td>Sport</td>\n",
       "      <td>more than 69,000</td>\n",
       "      <td>5</td>\n",
       "      <td>3</td>\n",
       "      <td>400</td>\n",
       "      <td>1</td>\n",
       "      <td>more than 30</td>\n",
       "      <td>more than 30</td>\n",
       "      <td>none</td>\n",
       "      <td>5 years</td>\n",
       "      <td>31 to 35</td>\n",
       "      <td>No</td>\n",
       "      <td>No</td>\n",
       "      <td>External</td>\n",
       "      <td>none</td>\n",
       "      <td>no change</td>\n",
       "      <td>1 vehicle</td>\n",
       "      <td>1994</td>\n",
       "      <td>Collision</td>\n",
       "      <td>No</td>\n",
       "    </tr>\n",
       "    <tr>\n",
       "      <th>5</th>\n",
       "      <td>Oct</td>\n",
       "      <td>4</td>\n",
       "      <td>Friday</td>\n",
       "      <td>Honda</td>\n",
       "      <td>Urban</td>\n",
       "      <td>Wednesday</td>\n",
       "      <td>Nov</td>\n",
       "      <td>1</td>\n",
       "      <td>Male</td>\n",
       "      <td>Single</td>\n",
       "      <td>20</td>\n",
       "      <td>Third Party</td>\n",
       "      <td>Sport - Collision</td>\n",
       "      <td>Sport</td>\n",
       "      <td>more than 69,000</td>\n",
       "      <td>6</td>\n",
       "      <td>12</td>\n",
       "      <td>400</td>\n",
       "      <td>3</td>\n",
       "      <td>more than 30</td>\n",
       "      <td>more than 30</td>\n",
       "      <td>none</td>\n",
       "      <td>5 years</td>\n",
       "      <td>21 to 25</td>\n",
       "      <td>No</td>\n",
       "      <td>No</td>\n",
       "      <td>External</td>\n",
       "      <td>3 to 5</td>\n",
       "      <td>no change</td>\n",
       "      <td>1 vehicle</td>\n",
       "      <td>1994</td>\n",
       "      <td>Collision</td>\n",
       "      <td>No</td>\n",
       "    </tr>\n",
       "    <tr>\n",
       "      <th>6</th>\n",
       "      <td>Feb</td>\n",
       "      <td>1</td>\n",
       "      <td>Saturday</td>\n",
       "      <td>Honda</td>\n",
       "      <td>Urban</td>\n",
       "      <td>Monday</td>\n",
       "      <td>Feb</td>\n",
       "      <td>3</td>\n",
       "      <td>Male</td>\n",
       "      <td>Married</td>\n",
       "      <td>36</td>\n",
       "      <td>Third Party</td>\n",
       "      <td>Sport - Collision</td>\n",
       "      <td>Sport</td>\n",
       "      <td>more than 69,000</td>\n",
       "      <td>7</td>\n",
       "      <td>14</td>\n",
       "      <td>400</td>\n",
       "      <td>1</td>\n",
       "      <td>more than 30</td>\n",
       "      <td>more than 30</td>\n",
       "      <td>1</td>\n",
       "      <td>7 years</td>\n",
       "      <td>36 to 40</td>\n",
       "      <td>No</td>\n",
       "      <td>No</td>\n",
       "      <td>External</td>\n",
       "      <td>1 to 2</td>\n",
       "      <td>no change</td>\n",
       "      <td>1 vehicle</td>\n",
       "      <td>1994</td>\n",
       "      <td>Collision</td>\n",
       "      <td>No</td>\n",
       "    </tr>\n",
       "    <tr>\n",
       "      <th>7</th>\n",
       "      <td>Nov</td>\n",
       "      <td>1</td>\n",
       "      <td>Friday</td>\n",
       "      <td>Honda</td>\n",
       "      <td>Urban</td>\n",
       "      <td>Tuesday</td>\n",
       "      <td>Mar</td>\n",
       "      <td>4</td>\n",
       "      <td>Male</td>\n",
       "      <td>Single</td>\n",
       "      <td>0</td>\n",
       "      <td>Policy Holder</td>\n",
       "      <td>Sport - Collision</td>\n",
       "      <td>Sport</td>\n",
       "      <td>more than 69,000</td>\n",
       "      <td>8</td>\n",
       "      <td>1</td>\n",
       "      <td>400</td>\n",
       "      <td>4</td>\n",
       "      <td>more than 30</td>\n",
       "      <td>more than 30</td>\n",
       "      <td>1</td>\n",
       "      <td>new</td>\n",
       "      <td>16 to 17</td>\n",
       "      <td>No</td>\n",
       "      <td>No</td>\n",
       "      <td>External</td>\n",
       "      <td>none</td>\n",
       "      <td>no change</td>\n",
       "      <td>1 vehicle</td>\n",
       "      <td>1994</td>\n",
       "      <td>Collision</td>\n",
       "      <td>No</td>\n",
       "    </tr>\n",
       "    <tr>\n",
       "      <th>8</th>\n",
       "      <td>Dec</td>\n",
       "      <td>4</td>\n",
       "      <td>Saturday</td>\n",
       "      <td>Honda</td>\n",
       "      <td>Urban</td>\n",
       "      <td>Wednesday</td>\n",
       "      <td>Dec</td>\n",
       "      <td>5</td>\n",
       "      <td>Male</td>\n",
       "      <td>Single</td>\n",
       "      <td>30</td>\n",
       "      <td>Policy Holder</td>\n",
       "      <td>Sport - Collision</td>\n",
       "      <td>Sport</td>\n",
       "      <td>more than 69,000</td>\n",
       "      <td>9</td>\n",
       "      <td>7</td>\n",
       "      <td>400</td>\n",
       "      <td>4</td>\n",
       "      <td>more than 30</td>\n",
       "      <td>more than 30</td>\n",
       "      <td>none</td>\n",
       "      <td>6 years</td>\n",
       "      <td>31 to 35</td>\n",
       "      <td>No</td>\n",
       "      <td>Yes</td>\n",
       "      <td>External</td>\n",
       "      <td>3 to 5</td>\n",
       "      <td>no change</td>\n",
       "      <td>1 vehicle</td>\n",
       "      <td>1994</td>\n",
       "      <td>Collision</td>\n",
       "      <td>No</td>\n",
       "    </tr>\n",
       "    <tr>\n",
       "      <th>9</th>\n",
       "      <td>Apr</td>\n",
       "      <td>3</td>\n",
       "      <td>Tuesday</td>\n",
       "      <td>Ford</td>\n",
       "      <td>Urban</td>\n",
       "      <td>Wednesday</td>\n",
       "      <td>Apr</td>\n",
       "      <td>3</td>\n",
       "      <td>Male</td>\n",
       "      <td>Married</td>\n",
       "      <td>42</td>\n",
       "      <td>Policy Holder</td>\n",
       "      <td>Utility - All Perils</td>\n",
       "      <td>Utility</td>\n",
       "      <td>more than 69,000</td>\n",
       "      <td>10</td>\n",
       "      <td>7</td>\n",
       "      <td>400</td>\n",
       "      <td>1</td>\n",
       "      <td>more than 30</td>\n",
       "      <td>more than 30</td>\n",
       "      <td>2 to 4</td>\n",
       "      <td>more than 7</td>\n",
       "      <td>36 to 40</td>\n",
       "      <td>No</td>\n",
       "      <td>No</td>\n",
       "      <td>External</td>\n",
       "      <td>3 to 5</td>\n",
       "      <td>no change</td>\n",
       "      <td>1 vehicle</td>\n",
       "      <td>1994</td>\n",
       "      <td>All Perils</td>\n",
       "      <td>No</td>\n",
       "    </tr>\n",
       "  </tbody>\n",
       "</table>\n",
       "</div>"
      ],
      "text/plain": [
       "  Month  WeekOfMonth  DayOfWeek    Make AccidentArea DayOfWeekClaimed  \\\n",
       "0   Dec            5  Wednesday   Honda        Urban          Tuesday   \n",
       "1   Jan            3  Wednesday   Honda        Urban           Monday   \n",
       "2   Oct            5     Friday   Honda        Urban         Thursday   \n",
       "3   Jun            2   Saturday  Toyota        Rural           Friday   \n",
       "4   Jan            5     Monday   Honda        Urban          Tuesday   \n",
       "5   Oct            4     Friday   Honda        Urban        Wednesday   \n",
       "6   Feb            1   Saturday   Honda        Urban           Monday   \n",
       "7   Nov            1     Friday   Honda        Urban          Tuesday   \n",
       "8   Dec            4   Saturday   Honda        Urban        Wednesday   \n",
       "9   Apr            3    Tuesday    Ford        Urban        Wednesday   \n",
       "\n",
       "  MonthClaimed  WeekOfMonthClaimed     Sex MaritalStatus  Age          Fault  \\\n",
       "0          Jan                   1  Female        Single   21  Policy Holder   \n",
       "1          Jan                   4    Male        Single   34  Policy Holder   \n",
       "2          Nov                   2    Male       Married   47  Policy Holder   \n",
       "3          Jul                   1    Male       Married   65    Third Party   \n",
       "4          Feb                   2  Female        Single   27    Third Party   \n",
       "5          Nov                   1    Male        Single   20    Third Party   \n",
       "6          Feb                   3    Male       Married   36    Third Party   \n",
       "7          Mar                   4    Male        Single    0  Policy Holder   \n",
       "8          Dec                   5    Male        Single   30  Policy Holder   \n",
       "9          Apr                   3    Male       Married   42  Policy Holder   \n",
       "\n",
       "             PolicyType VehicleCategory      VehiclePrice  PolicyNumber  \\\n",
       "0     Sport - Liability           Sport  more than 69,000             1   \n",
       "1     Sport - Collision           Sport  more than 69,000             2   \n",
       "2     Sport - Collision           Sport  more than 69,000             3   \n",
       "3     Sedan - Liability           Sport  20,000 to 29,000             4   \n",
       "4     Sport - Collision           Sport  more than 69,000             5   \n",
       "5     Sport - Collision           Sport  more than 69,000             6   \n",
       "6     Sport - Collision           Sport  more than 69,000             7   \n",
       "7     Sport - Collision           Sport  more than 69,000             8   \n",
       "8     Sport - Collision           Sport  more than 69,000             9   \n",
       "9  Utility - All Perils         Utility  more than 69,000            10   \n",
       "\n",
       "   RepNumber  Deductible  DriverRating Days:Policy-Accident Days:Policy-Claim  \\\n",
       "0         12         300             1         more than 30      more than 30   \n",
       "1         15         400             4         more than 30      more than 30   \n",
       "2          7         400             3         more than 30      more than 30   \n",
       "3          4         400             2         more than 30      more than 30   \n",
       "4          3         400             1         more than 30      more than 30   \n",
       "5         12         400             3         more than 30      more than 30   \n",
       "6         14         400             1         more than 30      more than 30   \n",
       "7          1         400             4         more than 30      more than 30   \n",
       "8          7         400             4         more than 30      more than 30   \n",
       "9          7         400             1         more than 30      more than 30   \n",
       "\n",
       "  PastNumberOfClaims AgeOfVehicle AgeOfPolicyHolder PoliceReportFiled  \\\n",
       "0               none      3 years          26 to 30                No   \n",
       "1               none      6 years          31 to 35               Yes   \n",
       "2                  1      7 years          41 to 50                No   \n",
       "3                  1  more than 7          51 to 65               Yes   \n",
       "4               none      5 years          31 to 35                No   \n",
       "5               none      5 years          21 to 25                No   \n",
       "6                  1      7 years          36 to 40                No   \n",
       "7                  1          new          16 to 17                No   \n",
       "8               none      6 years          31 to 35                No   \n",
       "9             2 to 4  more than 7          36 to 40                No   \n",
       "\n",
       "  WitnessPresent AgentType NumberOfSuppliments AddressChange-Claim  \\\n",
       "0             No  External                none              1 year   \n",
       "1             No  External                none           no change   \n",
       "2             No  External                none           no change   \n",
       "3             No  External         more than 5           no change   \n",
       "4             No  External                none           no change   \n",
       "5             No  External              3 to 5           no change   \n",
       "6             No  External              1 to 2           no change   \n",
       "7             No  External                none           no change   \n",
       "8            Yes  External              3 to 5           no change   \n",
       "9             No  External              3 to 5           no change   \n",
       "\n",
       "  NumberOfCars  Year  BasePolicy FraudFound  \n",
       "0       3 to 4  1994   Liability         No  \n",
       "1    1 vehicle  1994   Collision         No  \n",
       "2    1 vehicle  1994   Collision         No  \n",
       "3    1 vehicle  1994   Liability         No  \n",
       "4    1 vehicle  1994   Collision         No  \n",
       "5    1 vehicle  1994   Collision         No  \n",
       "6    1 vehicle  1994   Collision         No  \n",
       "7    1 vehicle  1994   Collision         No  \n",
       "8    1 vehicle  1994   Collision         No  \n",
       "9    1 vehicle  1994  All Perils         No  "
      ]
     },
     "execution_count": 2,
     "metadata": {},
     "output_type": "execute_result"
    }
   ],
   "source": [
    "df = pd.read_csv(\"./Data/carclaims.csv\")\n",
    "df_InsClaims = df.copy()\n",
    "pd.set_option('display.max_columns', 100)\n",
    "df_InsClaims.head(10)"
   ]
  },
  {
   "cell_type": "markdown",
   "id": "486c72a1-5ec0-41eb-867f-fca01d2b7e8b",
   "metadata": {},
   "source": [
    "### View Description of Dataset"
   ]
  },
  {
   "cell_type": "code",
   "execution_count": 3,
   "id": "a32712dc-c03b-46d4-b75c-1f33a65e9b2c",
   "metadata": {},
   "outputs": [
    {
     "data": {
      "text/html": [
       "<div>\n",
       "<style scoped>\n",
       "    .dataframe tbody tr th:only-of-type {\n",
       "        vertical-align: middle;\n",
       "    }\n",
       "\n",
       "    .dataframe tbody tr th {\n",
       "        vertical-align: top;\n",
       "    }\n",
       "\n",
       "    .dataframe thead th {\n",
       "        text-align: right;\n",
       "    }\n",
       "</style>\n",
       "<table border=\"1\" class=\"dataframe\">\n",
       "  <thead>\n",
       "    <tr style=\"text-align: right;\">\n",
       "      <th></th>\n",
       "      <th>WeekOfMonth</th>\n",
       "      <th>WeekOfMonthClaimed</th>\n",
       "      <th>Age</th>\n",
       "      <th>PolicyNumber</th>\n",
       "      <th>RepNumber</th>\n",
       "      <th>Deductible</th>\n",
       "      <th>DriverRating</th>\n",
       "      <th>Year</th>\n",
       "    </tr>\n",
       "  </thead>\n",
       "  <tbody>\n",
       "    <tr>\n",
       "      <th>count</th>\n",
       "      <td>15420.000000</td>\n",
       "      <td>15420.000000</td>\n",
       "      <td>15420.000000</td>\n",
       "      <td>15420.000000</td>\n",
       "      <td>15420.000000</td>\n",
       "      <td>15420.000000</td>\n",
       "      <td>15420.000000</td>\n",
       "      <td>15420.000000</td>\n",
       "    </tr>\n",
       "    <tr>\n",
       "      <th>mean</th>\n",
       "      <td>2.788586</td>\n",
       "      <td>2.693969</td>\n",
       "      <td>39.855707</td>\n",
       "      <td>7710.500000</td>\n",
       "      <td>8.483268</td>\n",
       "      <td>407.704280</td>\n",
       "      <td>2.487808</td>\n",
       "      <td>1994.866472</td>\n",
       "    </tr>\n",
       "    <tr>\n",
       "      <th>std</th>\n",
       "      <td>1.287585</td>\n",
       "      <td>1.259115</td>\n",
       "      <td>13.492377</td>\n",
       "      <td>4451.514911</td>\n",
       "      <td>4.599948</td>\n",
       "      <td>43.950998</td>\n",
       "      <td>1.119453</td>\n",
       "      <td>0.803313</td>\n",
       "    </tr>\n",
       "    <tr>\n",
       "      <th>min</th>\n",
       "      <td>1.000000</td>\n",
       "      <td>1.000000</td>\n",
       "      <td>0.000000</td>\n",
       "      <td>1.000000</td>\n",
       "      <td>1.000000</td>\n",
       "      <td>300.000000</td>\n",
       "      <td>1.000000</td>\n",
       "      <td>1994.000000</td>\n",
       "    </tr>\n",
       "    <tr>\n",
       "      <th>25%</th>\n",
       "      <td>2.000000</td>\n",
       "      <td>2.000000</td>\n",
       "      <td>31.000000</td>\n",
       "      <td>3855.750000</td>\n",
       "      <td>5.000000</td>\n",
       "      <td>400.000000</td>\n",
       "      <td>1.000000</td>\n",
       "      <td>1994.000000</td>\n",
       "    </tr>\n",
       "    <tr>\n",
       "      <th>50%</th>\n",
       "      <td>3.000000</td>\n",
       "      <td>3.000000</td>\n",
       "      <td>38.000000</td>\n",
       "      <td>7710.500000</td>\n",
       "      <td>8.000000</td>\n",
       "      <td>400.000000</td>\n",
       "      <td>2.000000</td>\n",
       "      <td>1995.000000</td>\n",
       "    </tr>\n",
       "    <tr>\n",
       "      <th>75%</th>\n",
       "      <td>4.000000</td>\n",
       "      <td>4.000000</td>\n",
       "      <td>48.000000</td>\n",
       "      <td>11565.250000</td>\n",
       "      <td>12.000000</td>\n",
       "      <td>400.000000</td>\n",
       "      <td>3.000000</td>\n",
       "      <td>1996.000000</td>\n",
       "    </tr>\n",
       "    <tr>\n",
       "      <th>max</th>\n",
       "      <td>5.000000</td>\n",
       "      <td>5.000000</td>\n",
       "      <td>80.000000</td>\n",
       "      <td>15420.000000</td>\n",
       "      <td>16.000000</td>\n",
       "      <td>700.000000</td>\n",
       "      <td>4.000000</td>\n",
       "      <td>1996.000000</td>\n",
       "    </tr>\n",
       "  </tbody>\n",
       "</table>\n",
       "</div>"
      ],
      "text/plain": [
       "        WeekOfMonth  WeekOfMonthClaimed           Age  PolicyNumber  \\\n",
       "count  15420.000000        15420.000000  15420.000000  15420.000000   \n",
       "mean       2.788586            2.693969     39.855707   7710.500000   \n",
       "std        1.287585            1.259115     13.492377   4451.514911   \n",
       "min        1.000000            1.000000      0.000000      1.000000   \n",
       "25%        2.000000            2.000000     31.000000   3855.750000   \n",
       "50%        3.000000            3.000000     38.000000   7710.500000   \n",
       "75%        4.000000            4.000000     48.000000  11565.250000   \n",
       "max        5.000000            5.000000     80.000000  15420.000000   \n",
       "\n",
       "          RepNumber    Deductible  DriverRating          Year  \n",
       "count  15420.000000  15420.000000  15420.000000  15420.000000  \n",
       "mean       8.483268    407.704280      2.487808   1994.866472  \n",
       "std        4.599948     43.950998      1.119453      0.803313  \n",
       "min        1.000000    300.000000      1.000000   1994.000000  \n",
       "25%        5.000000    400.000000      1.000000   1994.000000  \n",
       "50%        8.000000    400.000000      2.000000   1995.000000  \n",
       "75%       12.000000    400.000000      3.000000   1996.000000  \n",
       "max       16.000000    700.000000      4.000000   1996.000000  "
      ]
     },
     "execution_count": 3,
     "metadata": {},
     "output_type": "execute_result"
    }
   ],
   "source": [
    "df_InsClaims.describe()"
   ]
  },
  {
   "cell_type": "markdown",
   "id": "3f1972ee-5284-4004-a8ef-0fdfd5fd6dc9",
   "metadata": {},
   "source": [
    "### View Data Types"
   ]
  },
  {
   "cell_type": "code",
   "execution_count": 4,
   "id": "1a256a1a-9aec-45a8-9871-010acdcfc340",
   "metadata": {},
   "outputs": [
    {
     "data": {
      "text/plain": [
       "Month                   object\n",
       "WeekOfMonth              int64\n",
       "DayOfWeek               object\n",
       "Make                    object\n",
       "AccidentArea            object\n",
       "DayOfWeekClaimed        object\n",
       "MonthClaimed            object\n",
       "WeekOfMonthClaimed       int64\n",
       "Sex                     object\n",
       "MaritalStatus           object\n",
       "Age                      int64\n",
       "Fault                   object\n",
       "PolicyType              object\n",
       "VehicleCategory         object\n",
       "VehiclePrice            object\n",
       "PolicyNumber             int64\n",
       "RepNumber                int64\n",
       "Deductible               int64\n",
       "DriverRating             int64\n",
       "Days:Policy-Accident    object\n",
       "Days:Policy-Claim       object\n",
       "PastNumberOfClaims      object\n",
       "AgeOfVehicle            object\n",
       "AgeOfPolicyHolder       object\n",
       "PoliceReportFiled       object\n",
       "WitnessPresent          object\n",
       "AgentType               object\n",
       "NumberOfSuppliments     object\n",
       "AddressChange-Claim     object\n",
       "NumberOfCars            object\n",
       "Year                     int64\n",
       "BasePolicy              object\n",
       "FraudFound              object\n",
       "dtype: object"
      ]
     },
     "execution_count": 4,
     "metadata": {},
     "output_type": "execute_result"
    }
   ],
   "source": [
    "df_InsClaims.dtypes"
   ]
  },
  {
   "cell_type": "markdown",
   "id": "ee0932e5-31bb-4a36-8947-7b1a678d6ea7",
   "metadata": {},
   "source": [
    "### Split the dataset into features and target variable"
   ]
  },
  {
   "cell_type": "code",
   "execution_count": 5,
   "id": "522e79b0-7d35-4a71-bd58-fcd3ba43b85b",
   "metadata": {},
   "outputs": [
    {
     "name": "stderr",
     "output_type": "stream",
     "text": [
      "/Users/mitcheldiaz/opt/anaconda3/envs/mlenv/lib/python3.7/site-packages/ipykernel_launcher.py:2: FutureWarning: In a future version of pandas all arguments of DataFrame.drop except for the argument 'labels' will be keyword-only\n",
      "  \n"
     ]
    }
   ],
   "source": [
    "#Drop columns with unique values\n",
    "X = df_InsClaims.drop(['PolicyNumber', 'Deductible', 'RepNumber', 'WeekOfMonth','FraudFound', 'AddressChange-Claim'], 1)\n",
    "y = df_InsClaims['FraudFound']"
   ]
  },
  {
   "cell_type": "markdown",
   "id": "8e8ae624-f791-48ed-962c-3c48c8d9fa6d",
   "metadata": {},
   "source": [
    "### Define function for finding missing values"
   ]
  },
  {
   "cell_type": "code",
   "execution_count": 6,
   "id": "744bc86f-72d4-45aa-ac27-d8c80e7dc60d",
   "metadata": {},
   "outputs": [
    {
     "name": "stdin",
     "output_type": "stream",
     "text": [
      "Enter missing value:  ?\n"
     ]
    },
    {
     "name": "stdout",
     "output_type": "stream",
     "text": [
      "[]\n"
     ]
    }
   ],
   "source": [
    "def missing_value(dataframe, value):\n",
    "    \n",
    "\n",
    "    global cols\n",
    "    cols = dataframe.isin([value]).any()[dataframe.isin([value]).any() == True].index.tolist()\n",
    "    print(cols)\n",
    "    \n",
    "\n",
    "if __name__ == '__main__':\n",
    "    value = str(input('Enter missing value: '))\n",
    "    missing_value(df_InsClaims, value)"
   ]
  },
  {
   "cell_type": "markdown",
   "id": "4ea971d3-77ec-41a3-8044-b16b581e5a67",
   "metadata": {},
   "source": [
    "### Split features into numerical and categorical features"
   ]
  },
  {
   "cell_type": "code",
   "execution_count": 7,
   "id": "a46aacc0-b6b8-47d3-8a08-c753ed1ac895",
   "metadata": {},
   "outputs": [],
   "source": [
    "num = X.select_dtypes(include = np.number)\n",
    "cat = X.select_dtypes(exclude = np.number)"
   ]
  },
  {
   "cell_type": "markdown",
   "id": "f5268b34-db1c-4ed4-a458-fb1b3495ce6e",
   "metadata": {},
   "source": [
    "### using KNNImputer"
   ]
  },
  {
   "cell_type": "code",
   "execution_count": 8,
   "id": "c83b5173-b9ee-4cbc-adb2-f314097a805f",
   "metadata": {},
   "outputs": [],
   "source": [
    "d = defaultdict(LabelEncoder) #Saving LabelEncoder as dictionary so that can be used again totransform values to original\n",
    "imputer = KNNImputer()"
   ]
  },
  {
   "cell_type": "code",
   "execution_count": 9,
   "id": "23f6ff84-aebe-44c9-9ec9-ff0aaa65d2b1",
   "metadata": {},
   "outputs": [
    {
     "name": "stdout",
     "output_type": "stream",
     "text": [
      "  Month  DayOfWeek    Make AccidentArea DayOfWeekClaimed MonthClaimed     Sex  \\\n",
      "0   Dec  Wednesday   Honda        Urban          Tuesday          Jan  Female   \n",
      "1   Jan  Wednesday   Honda        Urban           Monday          Jan    Male   \n",
      "2   Oct     Friday   Honda        Urban         Thursday          Nov    Male   \n",
      "3   Jun   Saturday  Toyota        Rural           Friday          Jul    Male   \n",
      "4   Jan     Monday   Honda        Urban          Tuesday          Feb  Female   \n",
      "\n",
      "  MaritalStatus          Fault         PolicyType VehicleCategory  \\\n",
      "0        Single  Policy Holder  Sport - Liability           Sport   \n",
      "1        Single  Policy Holder  Sport - Collision           Sport   \n",
      "2       Married  Policy Holder  Sport - Collision           Sport   \n",
      "3       Married    Third Party  Sedan - Liability           Sport   \n",
      "4        Single    Third Party  Sport - Collision           Sport   \n",
      "\n",
      "       VehiclePrice Days:Policy-Accident Days:Policy-Claim PastNumberOfClaims  \\\n",
      "0  more than 69,000         more than 30      more than 30               none   \n",
      "1  more than 69,000         more than 30      more than 30               none   \n",
      "2  more than 69,000         more than 30      more than 30                  1   \n",
      "3  20,000 to 29,000         more than 30      more than 30                  1   \n",
      "4  more than 69,000         more than 30      more than 30               none   \n",
      "\n",
      "  AgeOfVehicle AgeOfPolicyHolder PoliceReportFiled WitnessPresent AgentType  \\\n",
      "0      3 years          26 to 30                No             No  External   \n",
      "1      6 years          31 to 35               Yes             No  External   \n",
      "2      7 years          41 to 50                No             No  External   \n",
      "3  more than 7          51 to 65               Yes             No  External   \n",
      "4      5 years          31 to 35                No             No  External   \n",
      "\n",
      "  NumberOfSuppliments NumberOfCars BasePolicy  \n",
      "0                none       3 to 4  Liability  \n",
      "1                none    1 vehicle  Collision  \n",
      "2                none    1 vehicle  Collision  \n",
      "3         more than 5    1 vehicle  Liability  \n",
      "4                none    1 vehicle  Collision  \n"
     ]
    }
   ],
   "source": [
    "#     Function to impute the missing values using KNN Imputer\n",
    "#    Takes as arguments the categorical features, numerical features, columns having missing\n",
    "#    values and the label encoder to use\n",
    "\n",
    "def impute_missing(cat_df, num_df, list_of_cols, dict_of_encoder):\n",
    "    '''\n",
    "            \n",
    "    \n",
    "    '''\n",
    "    \n",
    "    #Apply label encoder on the columns of categorical features\n",
    "    cat_df = cat_df.apply(lambda x: dict_of_encoder[x.name].fit_transform(x))\n",
    "    \n",
    "    #Replace the missing value encoded (?) with np.nan\n",
    "    # \"?\" was encoded as 0 for all columns that had \"?\"\n",
    "    for column in list_of_cols:\n",
    "        cat_df[column] = cat_df[column].replace(0, np.nan)\n",
    "        \n",
    "    #Join the categorical and numerical features\n",
    "    X = num_df.join(cat_df)\n",
    "    \n",
    "    #Apply KNNImputer on combined features and save it as a dataframe\n",
    "    encode_data = pd.DataFrame(imputer.fit_transform(X),columns = X.columns, dtype = int)\n",
    "    \n",
    "    #Seperate the categorical and numerical features\n",
    "    cat_df = encode_data[list(cat_df)]\n",
    "    num_df = encode_data[list(num_df)]\n",
    "    \n",
    "    #Inverse transform the categorical features to their original values\n",
    "    global new_cat\n",
    "    new_cat = cat_df.apply(lambda x : dict_of_encoder [x.name].inverse_transform(x))\n",
    "    print(new_cat.head())\n",
    "    \n",
    "#Apply impute missing function to imp\n",
    "impute_missing(cat, num, cols, d)"
   ]
  },
  {
   "cell_type": "markdown",
   "id": "38751765-5f50-4e4a-b439-f614558d0bee",
   "metadata": {},
   "source": [
    "### Creating Charts"
   ]
  },
  {
   "cell_type": "code",
   "execution_count": 26,
   "id": "237a0368-3dbe-434a-9cb3-83e8abcdb748",
   "metadata": {},
   "outputs": [],
   "source": [
    "class GraphAndCharts:\n",
    "    \n",
    "    \n",
    "     def classification_graph(self, y_true, y_predict):\n",
    "        clf_report = classification_report(y_true, y_predict, target_names = ['No', 'Yes'], output_dict=True)\n",
    "        plt.figure(figsize = (8, 7))\n",
    "        sns.heatmap(pd.DataFrame(clf_report).iloc[:-1, :].T, annot=True)\n",
    "        plt.title('Classification Report of Model')\n",
    "        plt.show()\n",
    "        \n",
    "     def heatmaps(self, dataframe):\n",
    "        plt.figure(figsize = (10, 10))\n",
    "        sns.heatmap(dataframe.corr(), annot = True, cmap = 'Reds')\n",
    "        plt.title('Correlation matrix for numerical features')\n",
    "        plt.show()"
   ]
  },
  {
   "cell_type": "markdown",
   "id": "0538d25d-4d82-4837-aef7-8c5e6eafa9a7",
   "metadata": {},
   "source": [
    "### Drop numerical features with correlation > 0.8"
   ]
  },
  {
   "cell_type": "code",
   "execution_count": 11,
   "id": "100a5759-d9cb-4af3-a29b-ebedf298f821",
   "metadata": {},
   "outputs": [],
   "source": [
    "corr = num.corr()\n",
    "columns = np.full((corr.shape[0],), True, dtype=bool)\n",
    "for i in range(corr.shape[0]):\n",
    "    for j in range(i+1, corr.shape[0]):\n",
    "        if corr.iloc[i,j] >= 0.8:\n",
    "            if columns[j]:\n",
    "                columns[j] = False\n",
    "selected_columns = num.columns[columns]\n",
    "num = num[selected_columns]"
   ]
  },
  {
   "cell_type": "markdown",
   "id": "cfe869d7",
   "metadata": {},
   "source": [
    "### Prepare Data for modelling"
   ]
  },
  {
   "cell_type": "code",
   "execution_count": 12,
   "id": "1ac9ac0f",
   "metadata": {},
   "outputs": [],
   "source": [
    "#Initiate a labelencoder object\n",
    "d_label = defaultdict(LabelEncoder)\n",
    "new_cat = new_cat.apply(lambda x: d_label[x.name].fit_transform(x))\n",
    "\n",
    "X_new = num.join(new_cat)\n",
    "le = LabelEncoder()\n",
    "y = le.fit_transform(y)"
   ]
  },
  {
   "cell_type": "markdown",
   "id": "a1da598a-4a2e-442b-b0c3-94ae2cbbe02d",
   "metadata": {},
   "source": [
    "### Split data into train and test set with stratification"
   ]
  },
  {
   "cell_type": "code",
   "execution_count": 13,
   "id": "3b163301-3ea2-4b73-8ae3-6f479768431f",
   "metadata": {},
   "outputs": [],
   "source": [
    "X_train, X_test, y_train, y_test = tts(X_new, y, test_size = 0.2, random_state = 42, stratify = y)"
   ]
  },
  {
   "cell_type": "markdown",
   "id": "3322266a-8b3d-4db2-b406-ee9d304c07cd",
   "metadata": {},
   "source": [
    "### Logistic Regression Model"
   ]
  },
  {
   "cell_type": "code",
   "execution_count": 14,
   "id": "c34444f2-4013-42dd-95d5-a2bfc2bedc30",
   "metadata": {},
   "outputs": [],
   "source": [
    "logreg = LogisticRegression()"
   ]
  },
  {
   "cell_type": "code",
   "execution_count": 15,
   "id": "da27fce4-e678-4003-ba6e-851acdbfcf62",
   "metadata": {},
   "outputs": [
    {
     "name": "stderr",
     "output_type": "stream",
     "text": [
      "/Users/mitcheldiaz/opt/anaconda3/envs/mlenv/lib/python3.7/site-packages/sklearn/linear_model/_logistic.py:818: ConvergenceWarning: lbfgs failed to converge (status=1):\n",
      "STOP: TOTAL NO. of ITERATIONS REACHED LIMIT.\n",
      "\n",
      "Increase the number of iterations (max_iter) or scale the data as shown in:\n",
      "    https://scikit-learn.org/stable/modules/preprocessing.html\n",
      "Please also refer to the documentation for alternative solver options:\n",
      "    https://scikit-learn.org/stable/modules/linear_model.html#logistic-regression\n",
      "  extra_warning_msg=_LOGISTIC_SOLVER_CONVERGENCE_MSG,\n"
     ]
    },
    {
     "data": {
      "text/plain": [
       "LogisticRegression()"
      ]
     },
     "execution_count": 15,
     "metadata": {},
     "output_type": "execute_result"
    }
   ],
   "source": [
    "logreg.fit(X_train, y_train)"
   ]
  },
  {
   "cell_type": "code",
   "execution_count": 16,
   "id": "ebf6a898-3d53-4044-9191-93c618808e60",
   "metadata": {},
   "outputs": [],
   "source": [
    "prediction = logreg.predict(X_test)"
   ]
  },
  {
   "cell_type": "code",
   "execution_count": 17,
   "id": "249332b9-19b6-4f1f-b886-88ccdcfa5500",
   "metadata": {},
   "outputs": [
    {
     "data": {
      "text/plain": [
       "0.9400129701686122"
      ]
     },
     "execution_count": 17,
     "metadata": {},
     "output_type": "execute_result"
    }
   ],
   "source": [
    "accuracy_score(y_test, prediction)"
   ]
  },
  {
   "cell_type": "markdown",
   "id": "0b0dc2b5-dd5d-4730-90ab-1729875702a2",
   "metadata": {},
   "source": [
    "### Initiating RandomForestClassifier\n"
   ]
  },
  {
   "cell_type": "code",
   "execution_count": 40,
   "id": "5035e65c-3f3d-492d-a226-a2f77c173cbe",
   "metadata": {},
   "outputs": [],
   "source": [
    "rfc_model = BalancedRandomForestClassifier(n_estimators= 100,random_state=1)\n",
    "\n",
    "\n",
    "rfc_model = rfc_model.fit(X_train, y_train)\n",
    "\n",
    "predictions = rfc_model.predict(X_test)"
   ]
  },
  {
   "cell_type": "markdown",
   "id": "24ae4a7b-6a57-4f4d-8624-a59d0ca2102e",
   "metadata": {},
   "source": [
    "### Training the data so it fits the model\n"
   ]
  },
  {
   "cell_type": "code",
   "execution_count": 41,
   "id": "d9f8d9a8-b37f-49b6-8438-c7efdbc49db3",
   "metadata": {},
   "outputs": [
    {
     "data": {
      "text/plain": [
       "RandomForestClassifier(oob_score=True, random_state=42)"
      ]
     },
     "execution_count": 41,
     "metadata": {},
     "output_type": "execute_result"
    }
   ],
   "source": [
    "rfc.fit(X_train, y_train)"
   ]
  },
  {
   "cell_type": "code",
   "execution_count": 42,
   "id": "f223a514-bbe8-4114-b84f-d292dd34c4d5",
   "metadata": {},
   "outputs": [
    {
     "name": "stdout",
     "output_type": "stream",
     "text": [
      "The balance accuracy score is: 0.632\n"
     ]
    }
   ],
   "source": [
    "# Calculated the balanced accuracy score\n",
    "print(f\"The balanced accuracy score is: {accuracy_score(y_test, predictions):.3f}\")"
   ]
  },
  {
   "cell_type": "markdown",
   "id": "427775d9-ec4d-4cbf-a201-1a6e5d7a1d46",
   "metadata": {},
   "source": [
    "### Confusion Matrix "
   ]
  },
  {
   "cell_type": "code",
   "execution_count": 47,
   "id": "669ff504-368b-4384-b918-c50fb22a80f4",
   "metadata": {},
   "outputs": [
    {
     "data": {
      "text/plain": [
       "array([[1776, 1123],\n",
       "       [  13,  172]])"
      ]
     },
     "execution_count": 47,
     "metadata": {},
     "output_type": "execute_result"
    }
   ],
   "source": [
    "# Display the confusion matrix\n",
    "cm = confusion_matrix(y_test, predictions)\n",
    "cm"
   ]
  },
  {
   "cell_type": "code",
   "execution_count": 48,
   "id": "202db897-fdbb-45a4-a11a-94bfa032200f",
   "metadata": {},
   "outputs": [
    {
     "data": {
      "text/plain": [
       "<sklearn.metrics._plot.confusion_matrix.ConfusionMatrixDisplay at 0x7fd1b0eb5790>"
      ]
     },
     "execution_count": 48,
     "metadata": {},
     "output_type": "execute_result"
    },
    {
     "data": {
      "image/png": "[encoded data removed]",
      "text/plain": [
       "<Figure size 432x288 with 2 Axes>"
      ]
     },
     "metadata": {
      "needs_background": "light"
     },
     "output_type": "display_data"
    }
   ],
   "source": [
    "disp = ConfusionMatrixDisplay(confusion_matrix=cm, display_labels= rfc_model.classes_)\n",
    "disp.plot()"
   ]
  },
  {
   "cell_type": "code",
   "execution_count": 52,
   "id": "af1e6b32-12a8-4500-8850-f2f4ba235ff3",
   "metadata": {},
   "outputs": [
    {
     "name": "stdout",
     "output_type": "stream",
     "text": [
      "RandomForestClassifer\n",
      "                   pre       rec       spe        f1       geo       iba       sup\n",
      "\n",
      "          0       0.99      0.61      0.93      0.76      0.75      0.55      2899\n",
      "          1       0.13      0.93      0.61      0.23      0.75      0.59       185\n",
      "\n",
      "avg / total       0.94      0.63      0.91      0.73      0.75      0.55      3084\n",
      "\n"
     ]
    }
   ],
   "source": [
    "report = classification_report_imbalanced(y_test, predictions)\n",
    "print(\"RandomForestClassifer\")\n",
    "print(report)"
   ]
  },
  {
   "cell_type": "markdown",
   "id": "ccd66871-dd31-47d6-8c1f-920414c5da5e",
   "metadata": {},
   "source": [
    "### Making a Prediction Using X_test"
   ]
  },
  {
   "cell_type": "code",
   "execution_count": 20,
   "id": "d0e881c3-63dd-405c-8d0a-dda633bfb8da",
   "metadata": {},
   "outputs": [],
   "source": [
    "y_pred_rfc = rfc.predict(X_test)"
   ]
  },
  {
   "cell_type": "code",
   "execution_count": 21,
   "id": "ab412d8f-a792-4b0f-81ef-22fbebe1b092",
   "metadata": {},
   "outputs": [],
   "source": [
    "gc = GraphAndCharts()"
   ]
  },
  {
   "cell_type": "markdown",
   "id": "20c86f1d-d546-4082-941d-18f74a4bb7d9",
   "metadata": {},
   "source": [
    "### Classification Report"
   ]
  },
  {
   "cell_type": "code",
   "execution_count": 22,
   "id": "b22be1f1-f3a3-479f-b24f-5fea5d795eb0",
   "metadata": {},
   "outputs": [
    {
     "data": {
      "image/png": "[encoded data removed]",
      "text/plain": [
       "<Figure size 576x504 with 2 Axes>"
      ]
     },
     "metadata": {
      "needs_background": "light"
     },
     "output_type": "display_data"
    }
   ],
   "source": [
    "gc.classification_graph(y_test, y_pred_rfc)"
   ]
  },
  {
   "cell_type": "markdown",
   "id": "9b5a832e-61d1-47b9-a0e4-3856afe2886d",
   "metadata": {},
   "source": [
    "### Correlation Matrix "
   ]
  },
  {
   "cell_type": "code",
   "execution_count": 27,
   "id": "df8612d9-3d47-4736-884f-09767c553da3",
   "metadata": {},
   "outputs": [
    {
     "data": {
      "image/png": "[encoded data removed]",
      "text/plain": [
       "<Figure size 720x720 with 2 Axes>"
      ]
     },
     "metadata": {
      "needs_background": "light"
     },
     "output_type": "display_data"
    }
   ],
   "source": [
    "gc.heatmaps(num)"
   ]
  }
 ],
 "metadata": {
  "kernelspec": {
   "display_name": "mlenv",
   "language": "python",
   "name": "mlenv"
  },
  "language_info": {
   "codemirror_mode": {
    "name": "ipython",
    "version": 3
   },
   "file_extension": ".py",
   "mimetype": "text/x-python",
   "name": "python",
   "nbconvert_exporter": "python",
   "pygments_lexer": "ipython3",
   "version": "3.7.13"
  }
 },
 "nbformat": 4,
 "nbformat_minor": 5
}
