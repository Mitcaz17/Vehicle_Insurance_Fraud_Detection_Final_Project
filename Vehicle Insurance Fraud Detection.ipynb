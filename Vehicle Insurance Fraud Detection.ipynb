{
 "cells": [
  {
   "cell_type": "code",
   "execution_count": null,
   "id": "af135eb3-63bf-401c-9f78-086315a0b872",
   "metadata": {},
   "outputs": [],
   "source": [
    "import pandas as pd\n",
    "import numpy as np\n",
    "import seaborn as sns\n",
    "import matplotlib.pyplot as plt\n",
    "from sklearn.preprocessing import LabelEncoder\n",
    "from sklearn.impute import KNNImputer\n",
    "import warnings"
   ]
  },
  {
   "cell_type": "markdown",
   "id": "b1c648c9-5c14-41a3-838f-8c23861dcc20",
   "metadata": {},
   "source": [
    "### Load and View Dataset "
   ]
  },
  {
   "cell_type": "code",
   "execution_count": null,
   "id": "d2b7e3b7-d7fb-4505-a0e6-49cd1c599bd5",
   "metadata": {},
   "outputs": [],
   "source": []
  }
 ],
 "metadata": {
  "kernelspec": {
   "display_name": "mlenv",
   "language": "python",
   "name": "mlenv"
  },
  "language_info": {
   "codemirror_mode": {
    "name": "ipython",
    "version": 3
   },
   "file_extension": ".py",
   "mimetype": "text/x-python",
   "name": "python",
   "nbconvert_exporter": "python",
   "pygments_lexer": "ipython3",
   "version": "3.7.13"
  }
 },
 "nbformat": 4,
 "nbformat_minor": 5
}
